{
 "cells": [
  {
   "cell_type": "markdown",
   "metadata": {},
   "source": [
    "# Accessing MongoDb using Pymongo\n",
    "\n",
    "\n",
    "Python package accessing MongoDb on localhost.\n"
   ]
  },
  {
   "cell_type": "markdown",
   "metadata": {},
   "source": [
    "MongoDB is an unstructured database. It stores data in the form of documents. MongoDB is able to handle huge volumes of data very efficiently and is the most widely used NoSQL database as it offers rich query language and flexible and fast access to data."
   ]
  },
  {
   "cell_type": "code",
   "execution_count": 1,
   "metadata": {},
   "outputs": [],
   "source": [
    "#install package \n",
    "#!pip install pymongo"
   ]
  },
  {
   "cell_type": "code",
   "execution_count": 2,
   "metadata": {},
   "outputs": [],
   "source": [
    "# import libraries\n",
    "import pymongo \n",
    "import pprint\n",
    "import pandas as pd\n",
    "from bson.objectid import ObjectId\n"
   ]
  },
  {
   "cell_type": "code",
   "execution_count": 3,
   "metadata": {},
   "outputs": [],
   "source": [
    "#connecting to local host\n",
    "mongo_uri = \"mongodb://localhost:27017/\"  \n",
    "client = pymongo.MongoClient(mongo_uri)"
   ]
  },
  {
   "cell_type": "code",
   "execution_count": 4,
   "metadata": {},
   "outputs": [
    {
     "data": {
      "text/plain": [
       "['admin', 'config', 'game-of-thrones', 'local']"
      ]
     },
     "execution_count": 4,
     "metadata": {},
     "output_type": "execute_result"
    }
   ],
   "source": [
    "#check available databases \n",
    "client.list_database_names()\n"
   ]
  },
  {
   "cell_type": "code",
   "execution_count": 5,
   "metadata": {},
   "outputs": [],
   "source": [
    "#accessing game-of-thrones db\n",
    "db=client['game-of-thrones']"
   ]
  },
  {
   "cell_type": "code",
   "execution_count": 6,
   "metadata": {},
   "outputs": [
    {
     "data": {
      "text/plain": [
       "['characters']"
      ]
     },
     "execution_count": 6,
     "metadata": {},
     "output_type": "execute_result"
    }
   ],
   "source": [
    "#The list_collection_names command shows the names of all the available collections:\n",
    "db.list_collection_names()"
   ]
  },
  {
   "cell_type": "code",
   "execution_count": 7,
   "metadata": {},
   "outputs": [
    {
     "data": {
      "text/plain": [
       "7"
      ]
     },
     "execution_count": 7,
     "metadata": {},
     "output_type": "execute_result"
    }
   ],
   "source": [
    "#count the number of document \n",
    "table=db['characters']\n",
    "table.count_documents({})"
   ]
  },
  {
   "cell_type": "markdown",
   "metadata": {},
   "source": [
    "## Creating a dataframe using pandas"
   ]
  },
  {
   "cell_type": "code",
   "execution_count": 8,
   "metadata": {},
   "outputs": [],
   "source": [
    "# transfering to dataframe\n",
    "sample=table.find()"
   ]
  },
  {
   "cell_type": "code",
   "execution_count": 9,
   "metadata": {},
   "outputs": [],
   "source": [
    "df=pd.DataFrame(sample)"
   ]
  },
  {
   "cell_type": "code",
   "execution_count": 10,
   "metadata": {},
   "outputs": [
    {
     "data": {
      "text/html": [
       "<div>\n",
       "<style scoped>\n",
       "    .dataframe tbody tr th:only-of-type {\n",
       "        vertical-align: middle;\n",
       "    }\n",
       "\n",
       "    .dataframe tbody tr th {\n",
       "        vertical-align: top;\n",
       "    }\n",
       "\n",
       "    .dataframe thead th {\n",
       "        text-align: right;\n",
       "    }\n",
       "</style>\n",
       "<table border=\"1\" class=\"dataframe\">\n",
       "  <thead>\n",
       "    <tr style=\"text-align: right;\">\n",
       "      <th></th>\n",
       "      <th>_id</th>\n",
       "      <th>name</th>\n",
       "      <th>username</th>\n",
       "      <th>address</th>\n",
       "      <th>birthdate</th>\n",
       "      <th>email</th>\n",
       "      <th>accounts</th>\n",
       "      <th>tier_and_details</th>\n",
       "      <th>active</th>\n",
       "    </tr>\n",
       "  </thead>\n",
       "  <tbody>\n",
       "    <tr>\n",
       "      <th>0</th>\n",
       "      <td>5e8bfaa25d20d53b2431e841</td>\n",
       "      <td>Jon Snow</td>\n",
       "      <td>NaN</td>\n",
       "      <td>NaN</td>\n",
       "      <td>NaN</td>\n",
       "      <td>NaN</td>\n",
       "      <td>NaN</td>\n",
       "      <td>NaN</td>\n",
       "      <td>NaN</td>\n",
       "    </tr>\n",
       "    <tr>\n",
       "      <th>1</th>\n",
       "      <td>5e8bfb265d20d53b2431e843</td>\n",
       "      <td>Arya Stark</td>\n",
       "      <td>NaN</td>\n",
       "      <td>NaN</td>\n",
       "      <td>NaN</td>\n",
       "      <td>NaN</td>\n",
       "      <td>NaN</td>\n",
       "      <td>NaN</td>\n",
       "      <td>NaN</td>\n",
       "    </tr>\n",
       "    <tr>\n",
       "      <th>2</th>\n",
       "      <td>5ca4bbcea2dd94ee58162c5e</td>\n",
       "      <td>Brandon Contreras</td>\n",
       "      <td>ecasey</td>\n",
       "      <td>6942 Connie Skyway\\nPatrickville, WA 16551</td>\n",
       "      <td>1973-10-23 23:52:10</td>\n",
       "      <td>amber97@hotmail.com</td>\n",
       "      <td>[896364, 450464]</td>\n",
       "      <td>{'f4cebafe5530421b991303dff297643d': {'tier': ...</td>\n",
       "      <td>NaN</td>\n",
       "    </tr>\n",
       "    <tr>\n",
       "      <th>3</th>\n",
       "      <td>5e8c25725d20d53b2431e844</td>\n",
       "      <td>testing</td>\n",
       "      <td>NaN</td>\n",
       "      <td>NaN</td>\n",
       "      <td>NaN</td>\n",
       "      <td>NaN</td>\n",
       "      <td>NaN</td>\n",
       "      <td>NaN</td>\n",
       "      <td>NaN</td>\n",
       "    </tr>\n",
       "    <tr>\n",
       "      <th>4</th>\n",
       "      <td>new</td>\n",
       "      <td>newAlan</td>\n",
       "      <td>new</td>\n",
       "      <td>Somewhere in Singapore</td>\n",
       "      <td>NaN</td>\n",
       "      <td>NaN</td>\n",
       "      <td>NaN</td>\n",
       "      <td>NaN</td>\n",
       "      <td>NaN</td>\n",
       "    </tr>\n",
       "  </tbody>\n",
       "</table>\n",
       "</div>"
      ],
      "text/plain": [
       "                        _id               name username  \\\n",
       "0  5e8bfaa25d20d53b2431e841           Jon Snow      NaN   \n",
       "1  5e8bfb265d20d53b2431e843         Arya Stark      NaN   \n",
       "2  5ca4bbcea2dd94ee58162c5e  Brandon Contreras   ecasey   \n",
       "3  5e8c25725d20d53b2431e844            testing      NaN   \n",
       "4                       new            newAlan      new   \n",
       "\n",
       "                                      address            birthdate  \\\n",
       "0                                         NaN                  NaN   \n",
       "1                                         NaN                  NaN   \n",
       "2  6942 Connie Skyway\\nPatrickville, WA 16551  1973-10-23 23:52:10   \n",
       "3                                         NaN                  NaN   \n",
       "4                      Somewhere in Singapore                  NaN   \n",
       "\n",
       "                 email          accounts  \\\n",
       "0                  NaN               NaN   \n",
       "1                  NaN               NaN   \n",
       "2  amber97@hotmail.com  [896364, 450464]   \n",
       "3                  NaN               NaN   \n",
       "4                  NaN               NaN   \n",
       "\n",
       "                                    tier_and_details  active  \n",
       "0                                                NaN     NaN  \n",
       "1                                                NaN     NaN  \n",
       "2  {'f4cebafe5530421b991303dff297643d': {'tier': ...     NaN  \n",
       "3                                                NaN     NaN  \n",
       "4                                                NaN     NaN  "
      ]
     },
     "execution_count": 10,
     "metadata": {},
     "output_type": "execute_result"
    }
   ],
   "source": [
    "df.head()"
   ]
  },
  {
   "cell_type": "markdown",
   "metadata": {},
   "source": [
    "## Inserting Data"
   ]
  },
  {
   "cell_type": "code",
   "execution_count": 11,
   "metadata": {},
   "outputs": [
    {
     "data": {
      "text/plain": [
       "ObjectId('5e8c2ebc6057435b48b52885')"
      ]
     },
     "execution_count": 11,
     "metadata": {},
     "output_type": "execute_result"
    }
   ],
   "source": [
    "#inserting one \n",
    "post = {\n",
    "        'username': 'new123', \n",
    "        'name':'newAlan', \n",
    "        'address':'Somewhere in Singapore'}\n",
    "        \n",
    "post_id = table.insert_one(post).inserted_id\n",
    "post_id"
   ]
  },
  {
   "cell_type": "code",
   "execution_count": 12,
   "metadata": {},
   "outputs": [
    {
     "data": {
      "text/plain": [
       "[ObjectId('5e8c2ebc6057435b48b52886'), ObjectId('5e8c2ebc6057435b48b52887')]"
      ]
     },
     "execution_count": 12,
     "metadata": {},
     "output_type": "execute_result"
    }
   ],
   "source": [
    "# inserting many functions\n",
    "import datetime\n",
    "new_posts = [{\"name\": \"newMike\",\n",
    "            \"username\": \"latestpost!\",\n",
    "            \"date\": datetime.datetime(2009, 11, 12, 11, 14)},\n",
    "            {\"name\": \"Eliot\",\n",
    "            \"title\": \"onceAgain\",\n",
    "            \"text\": \"and pretty easy too!\",\n",
    "            \"date\": datetime.datetime(2009, 11, 10, 10, 45)}]\n",
    "\n",
    "final = table.insert_many(new_posts)\n",
    "\n",
    "final.inserted_ids"
   ]
  },
  {
   "cell_type": "markdown",
   "metadata": {},
   "source": [
    "## Sorting the table and printing in DataFrame"
   ]
  },
  {
   "cell_type": "code",
   "execution_count": 13,
   "metadata": {},
   "outputs": [],
   "source": [
    "new=table.find().sort(\"name\",pymongo.DESCENDING)"
   ]
  },
  {
   "cell_type": "code",
   "execution_count": 14,
   "metadata": {},
   "outputs": [],
   "source": [
    "new_df=pd.DataFrame(new)"
   ]
  },
  {
   "cell_type": "code",
   "execution_count": 15,
   "metadata": {},
   "outputs": [
    {
     "data": {
      "text/html": [
       "<div>\n",
       "<style scoped>\n",
       "    .dataframe tbody tr th:only-of-type {\n",
       "        vertical-align: middle;\n",
       "    }\n",
       "\n",
       "    .dataframe tbody tr th {\n",
       "        vertical-align: top;\n",
       "    }\n",
       "\n",
       "    .dataframe thead th {\n",
       "        text-align: right;\n",
       "    }\n",
       "</style>\n",
       "<table border=\"1\" class=\"dataframe\">\n",
       "  <thead>\n",
       "    <tr style=\"text-align: right;\">\n",
       "      <th></th>\n",
       "      <th>_id</th>\n",
       "      <th>name</th>\n",
       "      <th>username</th>\n",
       "      <th>date</th>\n",
       "      <th>address</th>\n",
       "      <th>title</th>\n",
       "      <th>text</th>\n",
       "      <th>birthdate</th>\n",
       "      <th>email</th>\n",
       "      <th>accounts</th>\n",
       "      <th>tier_and_details</th>\n",
       "      <th>active</th>\n",
       "    </tr>\n",
       "  </thead>\n",
       "  <tbody>\n",
       "    <tr>\n",
       "      <th>0</th>\n",
       "      <td>5e8c25725d20d53b2431e844</td>\n",
       "      <td>testing</td>\n",
       "      <td>NaN</td>\n",
       "      <td>NaT</td>\n",
       "      <td>NaN</td>\n",
       "      <td>NaN</td>\n",
       "      <td>NaN</td>\n",
       "      <td>NaN</td>\n",
       "      <td>NaN</td>\n",
       "      <td>NaN</td>\n",
       "      <td>NaN</td>\n",
       "      <td>NaN</td>\n",
       "    </tr>\n",
       "    <tr>\n",
       "      <th>1</th>\n",
       "      <td>5e8c2ebc6057435b48b52886</td>\n",
       "      <td>newMike</td>\n",
       "      <td>latestpost!</td>\n",
       "      <td>2009-11-12 11:14:00</td>\n",
       "      <td>NaN</td>\n",
       "      <td>NaN</td>\n",
       "      <td>NaN</td>\n",
       "      <td>NaN</td>\n",
       "      <td>NaN</td>\n",
       "      <td>NaN</td>\n",
       "      <td>NaN</td>\n",
       "      <td>NaN</td>\n",
       "    </tr>\n",
       "    <tr>\n",
       "      <th>2</th>\n",
       "      <td>new</td>\n",
       "      <td>newAlan</td>\n",
       "      <td>new</td>\n",
       "      <td>NaT</td>\n",
       "      <td>Somewhere in Singapore</td>\n",
       "      <td>NaN</td>\n",
       "      <td>NaN</td>\n",
       "      <td>NaN</td>\n",
       "      <td>NaN</td>\n",
       "      <td>NaN</td>\n",
       "      <td>NaN</td>\n",
       "      <td>NaN</td>\n",
       "    </tr>\n",
       "    <tr>\n",
       "      <th>3</th>\n",
       "      <td>new123</td>\n",
       "      <td>newAlan</td>\n",
       "      <td>new123</td>\n",
       "      <td>NaT</td>\n",
       "      <td>Somewhere in Singapore</td>\n",
       "      <td>NaN</td>\n",
       "      <td>NaN</td>\n",
       "      <td>NaN</td>\n",
       "      <td>NaN</td>\n",
       "      <td>NaN</td>\n",
       "      <td>NaN</td>\n",
       "      <td>NaN</td>\n",
       "    </tr>\n",
       "    <tr>\n",
       "      <th>4</th>\n",
       "      <td>5e8c2d784547f2264e8753f6</td>\n",
       "      <td>newAlan</td>\n",
       "      <td>new123</td>\n",
       "      <td>NaT</td>\n",
       "      <td>Somewhere in Singapore</td>\n",
       "      <td>NaN</td>\n",
       "      <td>NaN</td>\n",
       "      <td>NaN</td>\n",
       "      <td>NaN</td>\n",
       "      <td>NaN</td>\n",
       "      <td>NaN</td>\n",
       "      <td>NaN</td>\n",
       "    </tr>\n",
       "    <tr>\n",
       "      <th>5</th>\n",
       "      <td>5e8c2ebc6057435b48b52885</td>\n",
       "      <td>newAlan</td>\n",
       "      <td>new123</td>\n",
       "      <td>NaT</td>\n",
       "      <td>Somewhere in Singapore</td>\n",
       "      <td>NaN</td>\n",
       "      <td>NaN</td>\n",
       "      <td>NaN</td>\n",
       "      <td>NaN</td>\n",
       "      <td>NaN</td>\n",
       "      <td>NaN</td>\n",
       "      <td>NaN</td>\n",
       "    </tr>\n",
       "    <tr>\n",
       "      <th>6</th>\n",
       "      <td>5e8bfaa25d20d53b2431e841</td>\n",
       "      <td>Jon Snow</td>\n",
       "      <td>NaN</td>\n",
       "      <td>NaT</td>\n",
       "      <td>NaN</td>\n",
       "      <td>NaN</td>\n",
       "      <td>NaN</td>\n",
       "      <td>NaN</td>\n",
       "      <td>NaN</td>\n",
       "      <td>NaN</td>\n",
       "      <td>NaN</td>\n",
       "      <td>NaN</td>\n",
       "    </tr>\n",
       "    <tr>\n",
       "      <th>7</th>\n",
       "      <td>5e8c2ebc6057435b48b52887</td>\n",
       "      <td>Eliot</td>\n",
       "      <td>NaN</td>\n",
       "      <td>2009-11-10 10:45:00</td>\n",
       "      <td>NaN</td>\n",
       "      <td>onceAgain</td>\n",
       "      <td>and pretty easy too!</td>\n",
       "      <td>NaN</td>\n",
       "      <td>NaN</td>\n",
       "      <td>NaN</td>\n",
       "      <td>NaN</td>\n",
       "      <td>NaN</td>\n",
       "    </tr>\n",
       "    <tr>\n",
       "      <th>8</th>\n",
       "      <td>5ca4bbcea2dd94ee58162c5e</td>\n",
       "      <td>Brandon Contreras</td>\n",
       "      <td>ecasey</td>\n",
       "      <td>NaT</td>\n",
       "      <td>6942 Connie Skyway\\nPatrickville, WA 16551</td>\n",
       "      <td>NaN</td>\n",
       "      <td>NaN</td>\n",
       "      <td>1973-10-23 23:52:10</td>\n",
       "      <td>amber97@hotmail.com</td>\n",
       "      <td>[896364, 450464]</td>\n",
       "      <td>{'f4cebafe5530421b991303dff297643d': {'tier': ...</td>\n",
       "      <td>NaN</td>\n",
       "    </tr>\n",
       "    <tr>\n",
       "      <th>9</th>\n",
       "      <td>5e8bfb265d20d53b2431e843</td>\n",
       "      <td>Arya Stark</td>\n",
       "      <td>NaN</td>\n",
       "      <td>NaT</td>\n",
       "      <td>NaN</td>\n",
       "      <td>NaN</td>\n",
       "      <td>NaN</td>\n",
       "      <td>NaN</td>\n",
       "      <td>NaN</td>\n",
       "      <td>NaN</td>\n",
       "      <td>NaN</td>\n",
       "      <td>NaN</td>\n",
       "    </tr>\n",
       "  </tbody>\n",
       "</table>\n",
       "</div>"
      ],
      "text/plain": [
       "                        _id               name     username  \\\n",
       "0  5e8c25725d20d53b2431e844            testing          NaN   \n",
       "1  5e8c2ebc6057435b48b52886            newMike  latestpost!   \n",
       "2                       new            newAlan          new   \n",
       "3                    new123            newAlan       new123   \n",
       "4  5e8c2d784547f2264e8753f6            newAlan       new123   \n",
       "5  5e8c2ebc6057435b48b52885            newAlan       new123   \n",
       "6  5e8bfaa25d20d53b2431e841           Jon Snow          NaN   \n",
       "7  5e8c2ebc6057435b48b52887              Eliot          NaN   \n",
       "8  5ca4bbcea2dd94ee58162c5e  Brandon Contreras       ecasey   \n",
       "9  5e8bfb265d20d53b2431e843         Arya Stark          NaN   \n",
       "\n",
       "                 date                                     address      title  \\\n",
       "0                 NaT                                         NaN        NaN   \n",
       "1 2009-11-12 11:14:00                                         NaN        NaN   \n",
       "2                 NaT                      Somewhere in Singapore        NaN   \n",
       "3                 NaT                      Somewhere in Singapore        NaN   \n",
       "4                 NaT                      Somewhere in Singapore        NaN   \n",
       "5                 NaT                      Somewhere in Singapore        NaN   \n",
       "6                 NaT                                         NaN        NaN   \n",
       "7 2009-11-10 10:45:00                                         NaN  onceAgain   \n",
       "8                 NaT  6942 Connie Skyway\\nPatrickville, WA 16551        NaN   \n",
       "9                 NaT                                         NaN        NaN   \n",
       "\n",
       "                   text            birthdate                email  \\\n",
       "0                   NaN                  NaN                  NaN   \n",
       "1                   NaN                  NaN                  NaN   \n",
       "2                   NaN                  NaN                  NaN   \n",
       "3                   NaN                  NaN                  NaN   \n",
       "4                   NaN                  NaN                  NaN   \n",
       "5                   NaN                  NaN                  NaN   \n",
       "6                   NaN                  NaN                  NaN   \n",
       "7  and pretty easy too!                  NaN                  NaN   \n",
       "8                   NaN  1973-10-23 23:52:10  amber97@hotmail.com   \n",
       "9                   NaN                  NaN                  NaN   \n",
       "\n",
       "           accounts                                   tier_and_details  active  \n",
       "0               NaN                                                NaN     NaN  \n",
       "1               NaN                                                NaN     NaN  \n",
       "2               NaN                                                NaN     NaN  \n",
       "3               NaN                                                NaN     NaN  \n",
       "4               NaN                                                NaN     NaN  \n",
       "5               NaN                                                NaN     NaN  \n",
       "6               NaN                                                NaN     NaN  \n",
       "7               NaN                                                NaN     NaN  \n",
       "8  [896364, 450464]  {'f4cebafe5530421b991303dff297643d': {'tier': ...     NaN  \n",
       "9               NaN                                                NaN     NaN  "
      ]
     },
     "execution_count": 15,
     "metadata": {},
     "output_type": "execute_result"
    }
   ],
   "source": [
    "new_df"
   ]
  },
  {
   "cell_type": "markdown",
   "metadata": {},
   "source": [
    "## Filtering Condition"
   ]
  },
  {
   "cell_type": "code",
   "execution_count": 16,
   "metadata": {},
   "outputs": [],
   "source": [
    "table.find_one({\"name\":'Alan'})\n"
   ]
  },
  {
   "cell_type": "code",
   "execution_count": 17,
   "metadata": {},
   "outputs": [
    {
     "data": {
      "text/plain": [
       "{'_id': ObjectId('5e8c2ebc6057435b48b52887'),\n",
       " 'name': 'Eliot',\n",
       " 'title': 'onceAgain',\n",
       " 'text': 'and pretty easy too!',\n",
       " 'date': datetime.datetime(2009, 11, 10, 10, 45)}"
      ]
     },
     "execution_count": 17,
     "metadata": {},
     "output_type": "execute_result"
    }
   ],
   "source": [
    "#\n",
    "post_id=final.inserted_ids[1]\n",
    "def parser(post_id):\n",
    "    document = table.find_one({'_id': ObjectId(post_id)})\n",
    "    return document\n",
    "\n",
    "parser(post_id)"
   ]
  },
  {
   "cell_type": "markdown",
   "metadata": {},
   "source": [
    "## Deletion of row"
   ]
  },
  {
   "cell_type": "code",
   "execution_count": 18,
   "metadata": {},
   "outputs": [],
   "source": [
    "table.find_one({'name':'Alan'})"
   ]
  },
  {
   "cell_type": "code",
   "execution_count": 19,
   "metadata": {},
   "outputs": [
    {
     "data": {
      "text/plain": [
       "<pymongo.results.DeleteResult at 0x111408c80>"
      ]
     },
     "execution_count": 19,
     "metadata": {},
     "output_type": "execute_result"
    }
   ],
   "source": [
    "table.delete_one({\"name\":\"Alan\"})"
   ]
  },
  {
   "cell_type": "code",
   "execution_count": 20,
   "metadata": {},
   "outputs": [
    {
     "name": "stdout",
     "output_type": "stream",
     "text": [
      "2  documents deleted.\n"
     ]
    }
   ],
   "source": [
    "##multiple deletion\n",
    "myquery = ({ \"name\":{\"$in\": [\"newMike\",\"Eliot\"]}})\n",
    "x = table.delete_many(myquery)\n",
    "\n",
    "print(x.deleted_count, \" documents deleted.\") "
   ]
  },
  {
   "cell_type": "markdown",
   "metadata": {},
   "source": [
    "## Loading csv into MongoDb\n",
    "1. Create the Database\n",
    "2. Create the table\n",
    "3. Append them into table using pandas "
   ]
  },
  {
   "cell_type": "code",
   "execution_count": 21,
   "metadata": {},
   "outputs": [],
   "source": [
    "#create the database\n",
    "mydb=client['sample']"
   ]
  },
  {
   "cell_type": "code",
   "execution_count": 22,
   "metadata": {},
   "outputs": [],
   "source": [
    "#create sample table\n",
    "mytable=mydb['table']"
   ]
  },
  {
   "cell_type": "code",
   "execution_count": 23,
   "metadata": {},
   "outputs": [],
   "source": [
    "#need to insert a document to create the database\n",
    "testInsert=mytable.insert_one({\"country\":'India'}).inserted_id\n"
   ]
  },
  {
   "cell_type": "code",
   "execution_count": 24,
   "metadata": {},
   "outputs": [
    {
     "data": {
      "text/plain": [
       "<pymongo.results.DeleteResult at 0x111426320>"
      ]
     },
     "execution_count": 24,
     "metadata": {},
     "output_type": "execute_result"
    }
   ],
   "source": [
    "#delete\n",
    "mytable.delete_one({\"country\":'India'})\n"
   ]
  },
  {
   "cell_type": "code",
   "execution_count": 25,
   "metadata": {},
   "outputs": [
    {
     "data": {
      "text/plain": [
       "500"
      ]
     },
     "execution_count": 25,
     "metadata": {},
     "output_type": "execute_result"
    }
   ],
   "source": [
    "df=pd.read_csv('sampleMongoData.csv') #provide file location\n",
    "listofDocs=[]\n",
    "for i in df.index:\n",
    "    listofDocs.append(dict(df.iloc[i]))\n",
    "\n",
    "myfinal = mytable.insert_many(listofDocs)\n",
    "mytable.count_documents({})"
   ]
  },
  {
   "cell_type": "code",
   "execution_count": 26,
   "metadata": {},
   "outputs": [
    {
     "data": {
      "text/html": [
       "<div>\n",
       "<style scoped>\n",
       "    .dataframe tbody tr th:only-of-type {\n",
       "        vertical-align: middle;\n",
       "    }\n",
       "\n",
       "    .dataframe tbody tr th {\n",
       "        vertical-align: top;\n",
       "    }\n",
       "\n",
       "    .dataframe thead th {\n",
       "        text-align: right;\n",
       "    }\n",
       "</style>\n",
       "<table border=\"1\" class=\"dataframe\">\n",
       "  <thead>\n",
       "    <tr style=\"text-align: right;\">\n",
       "      <th></th>\n",
       "      <th>_id</th>\n",
       "      <th>username</th>\n",
       "      <th>name</th>\n",
       "      <th>address</th>\n",
       "      <th>birthdate</th>\n",
       "      <th>email</th>\n",
       "      <th>accounts</th>\n",
       "      <th>tier_and_details</th>\n",
       "      <th>active</th>\n",
       "    </tr>\n",
       "  </thead>\n",
       "  <tbody>\n",
       "    <tr>\n",
       "      <th>0</th>\n",
       "      <td>5ca4bbcea2dd94ee58162c5e</td>\n",
       "      <td>ecasey</td>\n",
       "      <td>Brandon Contreras</td>\n",
       "      <td>6942 Connie Skyway\\nPatrickville, WA 16551</td>\n",
       "      <td>1973-10-23 23:52:10</td>\n",
       "      <td>amber97@hotmail.com</td>\n",
       "      <td>[896364, 450464]</td>\n",
       "      <td>{'f4cebafe5530421b991303dff297643d': {'tier': ...</td>\n",
       "      <td>NaN</td>\n",
       "    </tr>\n",
       "    <tr>\n",
       "      <th>1</th>\n",
       "      <td>5ca4bbcea2dd94ee58162c5d</td>\n",
       "      <td>qknight</td>\n",
       "      <td>Gabriel Romero</td>\n",
       "      <td>79375 David Neck\\nWest Matthewton, NJ 92863</td>\n",
       "      <td>1971-05-04 21:20:10</td>\n",
       "      <td>erica98@gmail.com</td>\n",
       "      <td>[568852, 351063, 635650, 229182, 732327, 89698]</td>\n",
       "      <td>{}</td>\n",
       "      <td>NaN</td>\n",
       "    </tr>\n",
       "    <tr>\n",
       "      <th>2</th>\n",
       "      <td>5ca4bbcea2dd94ee58162c5c</td>\n",
       "      <td>smcintyre</td>\n",
       "      <td>Christopher Lawrence</td>\n",
       "      <td>00881 West Flat\\nNorth Emily, IL 32130</td>\n",
       "      <td>1997-03-05 18:20:57</td>\n",
       "      <td>vkeith@yahoo.com</td>\n",
       "      <td>[551774, 264502, 599670, 193228, 397774]</td>\n",
       "      <td>{}</td>\n",
       "      <td>NaN</td>\n",
       "    </tr>\n",
       "    <tr>\n",
       "      <th>3</th>\n",
       "      <td>5ca4bbcea2dd94ee58162c5b</td>\n",
       "      <td>stricklandjeffery</td>\n",
       "      <td>Xavier Myers</td>\n",
       "      <td>499 Jonathan Streets Apt. 890\\nEast Ashley, MD...</td>\n",
       "      <td>1987-10-24 19:05:15</td>\n",
       "      <td>fredsmith@yahoo.com</td>\n",
       "      <td>[285957, 875868, 138703, 122908, 370468]</td>\n",
       "      <td>{}</td>\n",
       "      <td>NaN</td>\n",
       "    </tr>\n",
       "    <tr>\n",
       "      <th>4</th>\n",
       "      <td>5ca4bbcea2dd94ee58162c5a</td>\n",
       "      <td>amandawilliams</td>\n",
       "      <td>Brandy Huang</td>\n",
       "      <td>9505 Melissa Streets\\nSouth Frankville, NJ 91189</td>\n",
       "      <td>1975-09-22 14:21:58</td>\n",
       "      <td>scottjonathan@yahoo.com</td>\n",
       "      <td>[650729, 991663, 144876, 912504, 88163]</td>\n",
       "      <td>{}</td>\n",
       "      <td>NaN</td>\n",
       "    </tr>\n",
       "  </tbody>\n",
       "</table>\n",
       "</div>"
      ],
      "text/plain": [
       "                        _id           username                  name  \\\n",
       "0  5ca4bbcea2dd94ee58162c5e             ecasey     Brandon Contreras   \n",
       "1  5ca4bbcea2dd94ee58162c5d            qknight        Gabriel Romero   \n",
       "2  5ca4bbcea2dd94ee58162c5c          smcintyre  Christopher Lawrence   \n",
       "3  5ca4bbcea2dd94ee58162c5b  stricklandjeffery          Xavier Myers   \n",
       "4  5ca4bbcea2dd94ee58162c5a     amandawilliams          Brandy Huang   \n",
       "\n",
       "                                             address            birthdate  \\\n",
       "0         6942 Connie Skyway\\nPatrickville, WA 16551  1973-10-23 23:52:10   \n",
       "1        79375 David Neck\\nWest Matthewton, NJ 92863  1971-05-04 21:20:10   \n",
       "2             00881 West Flat\\nNorth Emily, IL 32130  1997-03-05 18:20:57   \n",
       "3  499 Jonathan Streets Apt. 890\\nEast Ashley, MD...  1987-10-24 19:05:15   \n",
       "4   9505 Melissa Streets\\nSouth Frankville, NJ 91189  1975-09-22 14:21:58   \n",
       "\n",
       "                     email                                         accounts  \\\n",
       "0      amber97@hotmail.com                                 [896364, 450464]   \n",
       "1        erica98@gmail.com  [568852, 351063, 635650, 229182, 732327, 89698]   \n",
       "2         vkeith@yahoo.com         [551774, 264502, 599670, 193228, 397774]   \n",
       "3      fredsmith@yahoo.com         [285957, 875868, 138703, 122908, 370468]   \n",
       "4  scottjonathan@yahoo.com          [650729, 991663, 144876, 912504, 88163]   \n",
       "\n",
       "                                    tier_and_details active  \n",
       "0  {'f4cebafe5530421b991303dff297643d': {'tier': ...    NaN  \n",
       "1                                                 {}    NaN  \n",
       "2                                                 {}    NaN  \n",
       "3                                                 {}    NaN  \n",
       "4                                                 {}    NaN  "
      ]
     },
     "execution_count": 26,
     "metadata": {},
     "output_type": "execute_result"
    }
   ],
   "source": [
    "view=mytable.find()\n",
    "df_view=pd.DataFrame(view)\n",
    "df_view.head()"
   ]
  },
  {
   "cell_type": "markdown",
   "metadata": {},
   "source": [
    "# References: \n",
    "\n",
    "- https://zellwk.com/blog/install-mongodb/\n",
    "- https://www.analyticsvidhya.com/blog/2020/02/mongodb-in-python-tutorial-for-beginners-using-pymongo/"
   ]
  }
 ],
 "metadata": {
  "kernelspec": {
   "display_name": "Python 3",
   "language": "python",
   "name": "python3"
  },
  "language_info": {
   "codemirror_mode": {
    "name": "ipython",
    "version": 3
   },
   "file_extension": ".py",
   "mimetype": "text/x-python",
   "name": "python",
   "nbconvert_exporter": "python",
   "pygments_lexer": "ipython3",
   "version": "3.7.4"
  }
 },
 "nbformat": 4,
 "nbformat_minor": 2
}
